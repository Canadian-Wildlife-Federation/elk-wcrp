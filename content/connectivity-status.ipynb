{
 "cells": [
  {
   "cell_type": "code",
   "execution_count": 2,
   "id": "0b1168f6",
   "metadata": {},
   "outputs": [],
   "source": [
    "#| echo: false\n",
    "import warnings\n",
    "import pandas as pd\n",
    "import numpy as np\n",
    "import python.api_calls as api\n",
    "import python.connectivity_assess as conn_table\n",
    "\n",
    "warnings.filterwarnings('ignore')"
   ]
  },
  {
   "cell_type": "markdown",
   "id": "8ce81f91",
   "metadata": {},
   "source": [
    "# Connectivity Status Assessment and Goals {-}\n",
    "\n",
    "## Connectivity Status Assessment {-}\n",
    "\n",
    "The planning team devised two Key Ecological Attributes (KEAs) and associated indicators to assess the current connectivity status of the watershed – Accessible habitat above Elko Dam and Accessible habitat below Elko Dam (@tbl-connectivity). KEAs are the key aspects of Westslope Cutthroat Trout ecology that are being targeted by this WCRP. The connectivity statuses for the Westslope Cutthroat Trout KEAs were used to establish goals to improve habitat connectivity in the watershed and will be the baseline against which progress is tracked over time. \n",
    "\n",
    "The current connectivity status assessment relies on GIS analyses to map known and modelled barriers to fish passage, identify stream reaches that have potential spawning and rearing habitat, estimate the proportion of habitat that is currently accessible to target species, and prioritize barriers for field assessment that would provide the greatest gains in connectivity. For the connectivity status assessments and barrier prioritization analysis the amount of spawning and rearing habitat is aggregated without duplication (i.e., a stream segment is only counted once if it is classified as both spawning and rearing habitat; see [data methods](data-methods.qmd)). To support a flexible prioritization framework to identify priority barriers in the watershed, two assumptions are made: 1) any modelled (i.e., the passability status is unknown) or partial barriers are treated as complete barriers to passage and 2) the habitat modelling is binary, it does not assign any habitat quality values. As such, the current connectivity status will be refined over time as more data on habitat and barriers are collected. For more detail on how the connectivity status assessments were conducted, see [data methods](data-methods.qmd).\n"
   ]
  },
  {
   "cell_type": "code",
   "execution_count": 6,
   "id": "tbl-connectivity",
   "metadata": {},
   "outputs": [
    {
     "data": {
      "text/html": [
       "<style type=\"text/css\">\n",
       "#T_9d32b th {\n",
       "  background-color: #008270;\n",
       "  text-align: left;\n",
       "}\n",
       "#T_9d32b_row0_col0, #T_9d32b_row0_col1, #T_9d32b_row0_col2, #T_9d32b_row1_col0, #T_9d32b_row1_col1, #T_9d32b_row1_col3, #T_9d32b_row1_col4, #T_9d32b_row1_col6 {\n",
       "  background-color: white;\n",
       "}\n",
       "#T_9d32b_row0_col3 {\n",
       "  background-color: #ff0000;\n",
       "}\n",
       "#T_9d32b_row0_col4 {\n",
       "  background-color: #ffff00;\n",
       "}\n",
       "#T_9d32b_row0_col5, #T_9d32b_row1_col5 {\n",
       "  background-color: #92d050;\n",
       "}\n",
       "#T_9d32b_row0_col6 {\n",
       "  background-color: #03853e;\n",
       "}\n",
       "#T_9d32b_row1_col2 {\n",
       "  font-weight: bold;\n",
       "}\n",
       "</style>\n",
       "<table id=\"T_9d32b\">\n",
       "  <thead>\n",
       "    <tr>\n",
       "      <th id=\"T_9d32b_level0_col0\" class=\"col_heading level0 col0\" >Target Species</th>\n",
       "      <th id=\"T_9d32b_level0_col1\" class=\"col_heading level0 col1\" >KEA</th>\n",
       "      <th id=\"T_9d32b_level0_col2\" class=\"col_heading level0 col2\" >Indicator</th>\n",
       "      <th id=\"T_9d32b_level0_col3\" class=\"col_heading level0 col3\" >Poor</th>\n",
       "      <th id=\"T_9d32b_level0_col4\" class=\"col_heading level0 col4\" >Fair</th>\n",
       "      <th id=\"T_9d32b_level0_col5\" class=\"col_heading level0 col5\" >Good</th>\n",
       "      <th id=\"T_9d32b_level0_col6\" class=\"col_heading level0 col6\" >Very Good</th>\n",
       "    </tr>\n",
       "  </thead>\n",
       "  <tbody>\n",
       "    <tr>\n",
       "      <td id=\"T_9d32b_row0_col0\" class=\"data row0 col0\" >Westslope Cutthroat Trout</td>\n",
       "      <td id=\"T_9d32b_row0_col1\" class=\"data row0 col1\" >Accessible habitat upstream of Elko Dam</td>\n",
       "      <td id=\"T_9d32b_row0_col2\" class=\"data row0 col2\" >Longest Fragment (%)</td>\n",
       "      <td id=\"T_9d32b_row0_col3\" class=\"data row0 col3\" ><25%</td>\n",
       "      <td id=\"T_9d32b_row0_col4\" class=\"data row0 col4\" >26-50%</td>\n",
       "      <td id=\"T_9d32b_row0_col5\" class=\"data row0 col5\" >51-75%</td>\n",
       "      <td id=\"T_9d32b_row0_col6\" class=\"data row0 col6\" >>75%</td>\n",
       "    </tr>\n",
       "    <tr>\n",
       "      <td id=\"T_9d32b_row1_col0\" class=\"data row1 col0\" > </td>\n",
       "      <td id=\"T_9d32b_row1_col1\" class=\"data row1 col1\" > </td>\n",
       "      <td id=\"T_9d32b_row1_col2\" class=\"data row1 col2\" >Current Status:</td>\n",
       "      <td id=\"T_9d32b_row1_col3\" class=\"data row1 col3\" > </td>\n",
       "      <td id=\"T_9d32b_row1_col4\" class=\"data row1 col4\" > </td>\n",
       "      <td id=\"T_9d32b_row1_col5\" class=\"data row1 col5\" >70</td>\n",
       "      <td id=\"T_9d32b_row1_col6\" class=\"data row1 col6\" > </td>\n",
       "    </tr>\n",
       "  </tbody>\n",
       "</table>\n"
      ],
      "text/plain": [
       "<pandas.io.formats.style.Styler at 0x1595f2313d0>"
      ]
     },
     "execution_count": 6,
     "metadata": {},
     "output_type": "execute_result"
    }
   ],
   "source": [
    "#| label: tbl-connectivity\n",
    "#| tbl-cap: 'Connectivity status assessment for (a) habitat upstream of Elko Dam and (b) habitat downstream of Elko Dam in the Elk River watershed. The two KEAs - Accessible habitat upstream of Elko Dam and Accessible habitat downstream of Elko Dam - are evaluated using the Longest Fragment approach (Diaz et al. 2021), whereby the length of linear habitat that currently comprises the longest connected section in the watershed is divided by the total length of all linear habitat in the watershed.'\n",
    "#| warning: false\n",
    "#| echo: false\n",
    "\n",
    "df = conn_table.make_assess_table(\"Westslope Cutthroat Trout\", \"Accessible habitat upstream of Elko Dam\", \"Longest Fragment (%)\", 25, 50, 75, api.connect_up)\n",
    "df"
   ]
  },
  {
   "cell_type": "markdown",
   "id": "74b3b14d",
   "metadata": {},
   "source": [
    "**Comments:** Indicator rating definitions are based on the consensus decisions of the planning team. The current status is based on the CWF Barrier Prioritization Model output, which is current as of November 2022.\n"
   ]
  },
  {
   "cell_type": "code",
   "execution_count": 7,
   "id": "516c4458",
   "metadata": {},
   "outputs": [
    {
     "data": {
      "text/html": [
       "<style type=\"text/css\">\n",
       "#T_b9d6d th {\n",
       "  background-color: #008270;\n",
       "  text-align: left;\n",
       "}\n",
       "#T_b9d6d_row0_col0, #T_b9d6d_row0_col1, #T_b9d6d_row0_col2, #T_b9d6d_row1_col0, #T_b9d6d_row1_col1, #T_b9d6d_row1_col3, #T_b9d6d_row1_col4, #T_b9d6d_row1_col5 {\n",
       "  background-color: white;\n",
       "}\n",
       "#T_b9d6d_row0_col3 {\n",
       "  background-color: #ff0000;\n",
       "}\n",
       "#T_b9d6d_row0_col4 {\n",
       "  background-color: #ffff00;\n",
       "}\n",
       "#T_b9d6d_row0_col5 {\n",
       "  background-color: #92d050;\n",
       "}\n",
       "#T_b9d6d_row0_col6, #T_b9d6d_row1_col6 {\n",
       "  background-color: #03853e;\n",
       "}\n",
       "#T_b9d6d_row1_col2 {\n",
       "  font-weight: bold;\n",
       "}\n",
       "</style>\n",
       "<table id=\"T_b9d6d\">\n",
       "  <thead>\n",
       "    <tr>\n",
       "      <th id=\"T_b9d6d_level0_col0\" class=\"col_heading level0 col0\" >Target Species</th>\n",
       "      <th id=\"T_b9d6d_level0_col1\" class=\"col_heading level0 col1\" >KEA</th>\n",
       "      <th id=\"T_b9d6d_level0_col2\" class=\"col_heading level0 col2\" >Indicator</th>\n",
       "      <th id=\"T_b9d6d_level0_col3\" class=\"col_heading level0 col3\" >Poor</th>\n",
       "      <th id=\"T_b9d6d_level0_col4\" class=\"col_heading level0 col4\" >Fair</th>\n",
       "      <th id=\"T_b9d6d_level0_col5\" class=\"col_heading level0 col5\" >Good</th>\n",
       "      <th id=\"T_b9d6d_level0_col6\" class=\"col_heading level0 col6\" >Very Good</th>\n",
       "    </tr>\n",
       "  </thead>\n",
       "  <tbody>\n",
       "    <tr>\n",
       "      <td id=\"T_b9d6d_row0_col0\" class=\"data row0 col0\" >Westslope Cutthroat Trout</td>\n",
       "      <td id=\"T_b9d6d_row0_col1\" class=\"data row0 col1\" >Accessible habitat downstream of Elko Dam</td>\n",
       "      <td id=\"T_b9d6d_row0_col2\" class=\"data row0 col2\" >Longest Fragment (%)</td>\n",
       "      <td id=\"T_b9d6d_row0_col3\" class=\"data row0 col3\" ><25%</td>\n",
       "      <td id=\"T_b9d6d_row0_col4\" class=\"data row0 col4\" >26-50%</td>\n",
       "      <td id=\"T_b9d6d_row0_col5\" class=\"data row0 col5\" >51-75%</td>\n",
       "      <td id=\"T_b9d6d_row0_col6\" class=\"data row0 col6\" >>75%</td>\n",
       "    </tr>\n",
       "    <tr>\n",
       "      <td id=\"T_b9d6d_row1_col0\" class=\"data row1 col0\" > </td>\n",
       "      <td id=\"T_b9d6d_row1_col1\" class=\"data row1 col1\" > </td>\n",
       "      <td id=\"T_b9d6d_row1_col2\" class=\"data row1 col2\" >Current Status:</td>\n",
       "      <td id=\"T_b9d6d_row1_col3\" class=\"data row1 col3\" > </td>\n",
       "      <td id=\"T_b9d6d_row1_col4\" class=\"data row1 col4\" > </td>\n",
       "      <td id=\"T_b9d6d_row1_col5\" class=\"data row1 col5\" > </td>\n",
       "      <td id=\"T_b9d6d_row1_col6\" class=\"data row1 col6\" >98</td>\n",
       "    </tr>\n",
       "  </tbody>\n",
       "</table>\n"
      ],
      "text/plain": [
       "<pandas.io.formats.style.Styler at 0x15961604590>"
      ]
     },
     "execution_count": 7,
     "metadata": {},
     "output_type": "execute_result"
    }
   ],
   "source": [
    "#| warning: false\n",
    "#| echo: false\n",
    "\n",
    "df = conn_table.make_assess_table(\"Westslope Cutthroat Trout\", \"Accessible habitat downstream of Elko Dam\", \"Longest Fragment (%)\", 25, 50, 75, api.connect_down)\n",
    "df"
   ]
  },
  {
   "cell_type": "markdown",
   "id": "7416f3cf",
   "metadata": {},
   "source": [
    "**Comments:** Indicator rating definitions are based on the consensus decisions of the planning team. The current status is based on the CWF Barrier Prioritization Model output, which is current as of November 2022.\n",
    "\n",
    "\n",
    "## Goals {-}\n"
   ]
  },
  {
   "cell_type": "code",
   "execution_count": 8,
   "id": "tbl-goals",
   "metadata": {},
   "outputs": [
    {
     "data": {
      "text/html": [
       "<style type=\"text/css\">\n",
       "#T_7f07a th {\n",
       "  background-color: #008270;\n",
       "  text-align: left;\n",
       "}\n",
       "#T_7f07a_row0_col0, #T_7f07a_row0_col1, #T_7f07a_row1_col0, #T_7f07a_row1_col1, #T_7f07a_row2_col0, #T_7f07a_row2_col1, #T_7f07a_row3_col0, #T_7f07a_row3_col1 {\n",
       "  text-align: left;\n",
       "}\n",
       "</style>\n",
       "<table id=\"T_7f07a\">\n",
       "  <thead>\n",
       "    <tr>\n",
       "      <th id=\"T_7f07a_level0_col0\" class=\"col_heading level0 col0\" >Goal #</th>\n",
       "      <th id=\"T_7f07a_level0_col1\" class=\"col_heading level0 col1\" >Goal</th>\n",
       "    </tr>\n",
       "  </thead>\n",
       "  <tbody>\n",
       "    <tr>\n",
       "      <td id=\"T_7f07a_row0_col0\" class=\"data row0 col0\" >1</td>\n",
       "      <td id=\"T_7f07a_row0_col1\" class=\"data row0 col1\" >By 2031, the Longest Fragment (%) for Westslope Cutthroat Trout will increase from 70% to 83% above the Elko Dam (i.e., reconnect at least 126.96 of habitat).</td>\n",
       "    </tr>\n",
       "    <tr>\n",
       "      <td id=\"T_7f07a_row1_col0\" class=\"data row1 col0\" >2</td>\n",
       "      <td id=\"T_7f07a_row1_col1\" class=\"data row1 col1\" >By 2041, the Longest Fragment (%) for Westslope Cutthroat Trout will increase to 86% above the Elko Dam (i.e., reconnect at least an additional 29.04 km of habitat).</td>\n",
       "    </tr>\n",
       "    <tr>\n",
       "      <td id=\"T_7f07a_row2_col0\" class=\"data row2 col0\" >3</td>\n",
       "      <td id=\"T_7f07a_row2_col1\" class=\"data row2 col1\" >By 2031, the Longest Fragment (%) for Westslope Cutthroat Trout will increase from 98% to 99% below the Elko Dam (i.e., reconnect at least 2.34 km of habitat).</td>\n",
       "    </tr>\n",
       "    <tr>\n",
       "      <td id=\"T_7f07a_row3_col0\" class=\"data row3 col0\" >4</td>\n",
       "      <td id=\"T_7f07a_row3_col1\" class=\"data row3 col1\" >By 2041, the Longest Fragment (%) for Westslope Cutthroat Trout will not decrease from 99% below the Elko Dam.</td>\n",
       "    </tr>\n",
       "  </tbody>\n",
       "</table>\n"
      ],
      "text/plain": [
       "<pandas.io.formats.style.Styler at 0x15961bdadb0>"
      ]
     },
     "execution_count": 8,
     "metadata": {},
     "output_type": "execute_result"
    }
   ],
   "source": [
    "#| label: tbl-goals\n",
    "#| tbl-cap: 'Goals to improve habitat connectivity for Westslope Cutthroat Trout, upstream and downstream of Elko Dam, in the Elk River watershed over the lifespan of the WCRP (2021-2041). The goals were established through discussions with the planning team and represent the resulting desired state of connectivity in the watershed. The goals for the Downstream of the Elko Dam unit assume that remediation can be undertaken while mitigating the risk of introgressive hybridization (see action 1.11 in Strategies & Actions). The goals are subject to change as more information and data are collected over the course of the plan timeline (e.g., the current connectivity status is updated based on barrier field assessments).'\n",
    "#| warning: false\n",
    "#| echo: false\n",
    "\n",
    "#creating table 7\n",
    "import warnings\n",
    "\n",
    "warnings.filterwarnings('ignore')\n",
    "import pandas as pd\n",
    "import numpy as np\n",
    "\n",
    "df = pd.DataFrame({\"Goal #\": [1,2,3,4],\n",
    "                   \"Goal\": [\"By 2031, the Longest Fragment (%) for Westslope Cutthroat Trout will increase from \"+ str(api.connect_up) +\"% to 83% above the Elko Dam (i.e., reconnect at least \"+str(api.gain_up_31)+\" of habitat).\",\n",
    "                            \"By 2041, the Longest Fragment (%) for Westslope Cutthroat Trout will increase to 86% above the Elko Dam (i.e., reconnect at least an additional \"+ str(round(api.gain_up_41-api.gain_up_31, 2)) +\" km of habitat).\",\n",
    "                            \"By 2031, the Longest Fragment (%) for Westslope Cutthroat Trout will increase from \"+ str(api.connect_down) +\"% to 99% below the Elko Dam (i.e., reconnect at least \"+ str(api.gain_down) +\" km of habitat).\",\n",
    "                            \"By 2041, the Longest Fragment (%) for Westslope Cutthroat Trout will not decrease from 99% below the Elko Dam.\"]\n",
    "                    })\n",
    "\n",
    "data = df.style.hide().set_properties(**{'text-align': 'left'})\n",
    "\n",
    "data.set_table_styles(\n",
    "   [{\n",
    "       'selector': 'th',\n",
    "       'props': [('background-color', '#008270'),('text-align', 'left')]\n",
    "   }])"
   ]
  }
 ],
 "metadata": {
  "kernelspec": {
   "display_name": "Python 3",
   "language": "python",
   "name": "python3"
  },
  "language_info": {
   "codemirror_mode": {
    "name": "ipython",
    "version": 3
   },
   "file_extension": ".py",
   "mimetype": "text/x-python",
   "name": "python",
   "nbconvert_exporter": "python",
   "pygments_lexer": "ipython3",
   "version": "3.12.0"
  }
 },
 "nbformat": 4,
 "nbformat_minor": 5
}
